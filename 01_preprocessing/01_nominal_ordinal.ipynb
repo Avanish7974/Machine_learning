{
 "cells": [
  {
   "cell_type": "markdown",
   "id": "5d3ba79b",
   "metadata": {},
   "source": [
    "## Nominal Data (No Order)"
   ]
  },
  {
   "cell_type": "code",
   "execution_count": null,
   "id": "7a87239a",
   "metadata": {},
   "outputs": [],
   "source": [
    "# 🔸 1. Nominal Data (No Order)\n",
    "# 👉 What it is:\n",
    "# Nominal data has names or labels, but no order or ranking.\n",
    "\n",
    "# 📌 Examples:\n",
    "# Gender: Male, Female, Other\n",
    "\n",
    "# Color: Red, Blue, Green\n",
    "\n",
    "# City: Bhopal, Delhi, Mumbai\n",
    "\n",
    "# These categories are equal — one is not \"greater\" or \"less\" than the other.\n",
    "\n",
    "# 🧠 In ML:\n",
    "# We usually use One-Hot Encoding to convert nominal data into numbers.\n",
    "\n",
    "# Example:\n",
    "# \"Color\" = Red → [1, 0, 0]\n",
    "# \"Color\" = Blue → [0, 1, 0]\n"
   ]
  },
  {
   "cell_type": "markdown",
   "id": "5f0afa62",
   "metadata": {},
   "source": [
    "## Ordinal Data (Has Order)"
   ]
  },
  {
   "cell_type": "code",
   "execution_count": null,
   "id": "dab0a69f",
   "metadata": {},
   "outputs": [],
   "source": [
    "# 🔸 2. Ordinal Data (Has Order)\n",
    "# 👉 What it is:\n",
    "# Ordinal data also has categories, but with a meaningful order.\n",
    "\n",
    "# 📌 Examples:\n",
    "# Education Level: High School < Bachelor's < Master's < PhD\n",
    "\n",
    "# Rating: Poor < Average < Good < Excellent\n",
    "\n",
    "# T-Shirt Size: Small < Medium < Large\n",
    "\n",
    "# Here, the order matters, but the difference between levels is not always equal.\n",
    "\n",
    "# 🧠 In ML:\n",
    "# We use Label Encoding or custom numeric mapping.\n",
    "\n",
    "# Example:\n",
    "# Poor = 1, Average = 2, Good = 3, Excellent = 4\n",
    "\n",
    "# 🧠 Simple Analogy:\n",
    "# Type\tThink of it as...\tCan you sort it?\tExample\n",
    "# Nominal\tNames only\t❌ No\tColors, Cities\n",
    "# Ordinal\tRanked values (like ladder)\t✅ Yes\tEducation, Ratings\n",
    "\n",
    "# 💡 Tip:\n",
    "# When preprocessing data for ML, always ask:\n",
    "\n",
    "# Does the order of categories matter?\n",
    "\n",
    "# If yes → it's Ordinal\n",
    "\n",
    "# If no → it's Nominal"
   ]
  }
 ],
 "metadata": {
  "language_info": {
   "name": "python"
  }
 },
 "nbformat": 4,
 "nbformat_minor": 5
}
