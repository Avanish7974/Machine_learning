{
 "cells": [
  {
   "cell_type": "markdown",
   "id": "0b55ddc8",
   "metadata": {},
   "source": [
    "### MAE/MSE/RMSE Calculation"
   ]
  },
  {
   "cell_type": "code",
   "execution_count": null,
   "id": "d012a464",
   "metadata": {},
   "outputs": [],
   "source": [
    "# The Difference between MAE MSE and RMSE:\n",
    "\n",
    "# - Mean Absolute Error (MAE): This is the average absolute difference between the predicted and actual values.\n",
    "# It measures the average magnitude of the errors without considering their direction.\n",
    "# It is more sensitive to outliers and does not penalize large errors as much as other metrics.\n",
    "\n",
    "# - Mean Squared Error (MSE): This is the average squared difference between the predicted and actual values. \n",
    "# It measures the average squared magnitude of the errors. It is differentiable means divide by the number of samples, unlike MAE.\n",
    "# We Find MSE when we want to find the average squared difference between the predicted and actual values.\n",
    "\n",
    "# - Root Mean Squared Error (RMSE): This is the square root of the Mean Squared Error.\n",
    "# Root Mean Squared Error is a measure of the average squared difference between the predicted and actual values.\n"
   ]
  },
  {
   "cell_type": "markdown",
   "id": "002512f4",
   "metadata": {},
   "source": [
    "### MAE (Mean Absolute Error)"
   ]
  },
  {
   "cell_type": "code",
   "execution_count": null,
   "id": "a2ec8de0",
   "metadata": {},
   "outputs": [],
   "source": [
    "# - Mean Absolute Error (MAE): This is the average absolute difference between the predicted and actual values.\n",
    "# IT Use When we want to find the average difference between the predicted and actual values."
   ]
  },
  {
   "cell_type": "markdown",
   "id": "1a399768",
   "metadata": {},
   "source": [
    "### MSE (Mean Squared Error)"
   ]
  },
  {
   "cell_type": "code",
   "execution_count": null,
   "id": "d4b3f222",
   "metadata": {},
   "outputs": [],
   "source": [
    "# - Mean Squared Error (MSE): This is the average squared difference between the predicted and actual values. \n",
    "# It Use When we want to find the average squared difference between the predicted and actual values."
   ]
  },
  {
   "cell_type": "markdown",
   "id": "158fad37",
   "metadata": {},
   "source": [
    "### RMSE (Root Mean Squared Error)"
   ]
  },
  {
   "cell_type": "code",
   "execution_count": null,
   "id": "5bf34203",
   "metadata": {},
   "outputs": [],
   "source": [
    "# - Root Mean Squared Error (RMSE): This is the square root of the Mean Squared Error.\n",
    "# It Use When we want to find the average squared difference between the predicted and actual values."
   ]
  },
  {
   "cell_type": "markdown",
   "id": "a79eb61a",
   "metadata": {},
   "source": [
    "### R-squared (R2) or Coefficient of Determination"
   ]
  },
  {
   "cell_type": "code",
   "execution_count": null,
   "id": "56f0178a",
   "metadata": {},
   "outputs": [],
   "source": [
    "# - R-squared (R2) or Coefficient of Determination\n",
    "# R-squared is a measure of how well the regression model fits the data.\n",
    "# R-squared is a measure of how well the regression model fits the data. It ranges from 0 to 1,\n",
    "#  where 1 indicates a perfect fit. And 0 indicates no fit. In this case, the R2 Score is 0.99, \n",
    "# which means the model explains 99% of the variance in the test data. in R2 score higher the R2 Score, better the model fits the data."
   ]
  },
  {
   "cell_type": "markdown",
   "id": "fed4cdf2",
   "metadata": {},
   "source": [
    "### Adjusted R-squared "
   ]
  },
  {
   "cell_type": "code",
   "execution_count": null,
   "id": "5c22950a",
   "metadata": {},
   "outputs": [],
   "source": [
    "# Adjusted R-squared is a modified version of R-squared that adjusts for the number of predictors in the model.\n",
    "#  It penalizes the model for including unnecessary predictors."
   ]
  }
 ],
 "metadata": {
  "language_info": {
   "name": "python"
  }
 },
 "nbformat": 4,
 "nbformat_minor": 5
}
