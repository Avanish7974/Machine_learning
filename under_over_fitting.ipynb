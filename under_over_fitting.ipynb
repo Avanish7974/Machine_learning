{
 "cells": [
  {
   "cell_type": "markdown",
   "id": "5135c8a5",
   "metadata": {},
   "source": [
    "<!-- overfitting is a phenomenon where a machine learning model performs well on training data but poorly on unseen data. This is often due to the model being too complex or having too many parameters\n",
    "\n",
    "Underfitting occurs when a machine learning model performs poorly on both the training and unseen data. This is often due to the model being too simple or having too few parameters\n",
    "\n",
    "high bias and high variance are two main sources of overfitting and underfitting in machine learning models.\n",
    "\n",
    "Bias refers to the error introduced by the model's assumptions about the data. High bias models make assumptions about the data that are too rigid and may not capture the underlying patterns in the data.\n",
    "\n",
    "Variance refers to the error introduced by the model's sensitivity to small fluctuations in the training data. High variance models are sensitive to the training data and may overfit the data, capturing noise and not generalizing well to new, unseen data. -->\n"
   ]
  },
  {
   "cell_type": "code",
   "execution_count": null,
   "id": "6f3c2eb8",
   "metadata": {},
   "outputs": [],
   "source": [
    "import pandas as pd \n"
   ]
  }
 ],
 "metadata": {
  "language_info": {
   "name": "python"
  }
 },
 "nbformat": 4,
 "nbformat_minor": 5
}
